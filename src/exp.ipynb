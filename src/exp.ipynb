{
 "cells": [
  {
   "cell_type": "code",
   "execution_count": 1,
   "metadata": {},
   "outputs": [],
   "source": [
    "from transformers import AutoTokenizer\n",
    "from transformers import XLNetTokenizer, TFXLNetLMHeadModel"
   ]
  },
  {
   "cell_type": "code",
   "execution_count": 3,
   "metadata": {},
   "outputs": [
    {
     "name": "stderr",
     "output_type": "stream",
     "text": [
      "2022-01-24 15:07:15.700304: I tensorflow/core/platform/cpu_feature_guard.cc:142] This TensorFlow binary is optimized with oneAPI Deep Neural Network Library (oneDNN) to use the following CPU instructions in performance-critical operations:  AVX2 FMA\n",
      "To enable them in other operations, rebuild TensorFlow with the appropriate compiler flags.\n",
      "2022-01-24 15:07:20.986376: I tensorflow/core/common_runtime/gpu/gpu_device.cc:1510] Created device /job:localhost/replica:0/task:0/device:GPU:0 with 10421 MB memory:  -> device: 0, name: NVIDIA GeForce GTX 1080 Ti, pci bus id: 0000:04:00.0, compute capability: 6.1\n",
      "2022-01-24 15:07:20.988388: I tensorflow/core/common_runtime/gpu/gpu_device.cc:1510] Created device /job:localhost/replica:0/task:0/device:GPU:1 with 10421 MB memory:  -> device: 1, name: NVIDIA GeForce GTX 1080 Ti, pci bus id: 0000:05:00.0, compute capability: 6.1\n",
      "2022-01-24 15:07:20.989995: I tensorflow/core/common_runtime/gpu/gpu_device.cc:1510] Created device /job:localhost/replica:0/task:0/device:GPU:2 with 163 MB memory:  -> device: 2, name: NVIDIA GeForce GTX 1080 Ti, pci bus id: 0000:08:00.0, compute capability: 6.1\n",
      "2022-01-24 15:07:20.993330: I tensorflow/core/common_runtime/gpu/gpu_device.cc:1510] Created device /job:localhost/replica:0/task:0/device:GPU:3 with 10421 MB memory:  -> device: 3, name: NVIDIA GeForce GTX 1080 Ti, pci bus id: 0000:09:00.0, compute capability: 6.1\n",
      "2022-01-24 15:07:20.996717: I tensorflow/core/common_runtime/gpu/gpu_device.cc:1510] Created device /job:localhost/replica:0/task:0/device:GPU:4 with 10421 MB memory:  -> device: 4, name: NVIDIA GeForce GTX 1080 Ti, pci bus id: 0000:84:00.0, compute capability: 6.1\n",
      "2022-01-24 15:07:20.999181: I tensorflow/core/common_runtime/gpu/gpu_device.cc:1510] Created device /job:localhost/replica:0/task:0/device:GPU:5 with 10421 MB memory:  -> device: 5, name: NVIDIA GeForce GTX 1080 Ti, pci bus id: 0000:85:00.0, compute capability: 6.1\n",
      "2022-01-24 15:07:21.001353: I tensorflow/core/common_runtime/gpu/gpu_device.cc:1510] Created device /job:localhost/replica:0/task:0/device:GPU:6 with 10421 MB memory:  -> device: 6, name: NVIDIA GeForce GTX 1080 Ti, pci bus id: 0000:88:00.0, compute capability: 6.1\n",
      "2022-01-24 15:07:21.004357: I tensorflow/core/common_runtime/gpu/gpu_device.cc:1510] Created device /job:localhost/replica:0/task:0/device:GPU:7 with 10421 MB memory:  -> device: 7, name: NVIDIA GeForce GTX 1080 Ti, pci bus id: 0000:89:00.0, compute capability: 6.1\n",
      "All model checkpoint layers were used when initializing TFXLNetLMHeadModel.\n",
      "\n",
      "All the layers of TFXLNetLMHeadModel were initialized from the model checkpoint at hfl/chinese-xlnet-base.\n",
      "If your task is similar to the task the model of the checkpoint was trained on, you can already use TFXLNetLMHeadModel for predictions without further training.\n"
     ]
    }
   ],
   "source": [
    "tokenizer=AutoTokenizer.from_pretrained('hfl/chinese-xlnet-base')\n",
    "model = TFXLNetLMHeadModel.from_pretrained(\"hfl/chinese-xlnet-base\")"
   ]
  },
  {
   "cell_type": "code",
   "execution_count": 11,
   "metadata": {},
   "outputs": [
    {
     "data": {
      "text/plain": [
       "<tf.Tensor: shape=(1, 1, 32000), dtype=float32, numpy=\n",
       "array([[[ 4.9395194 , -0.5041997 , -0.48420405, ..., -0.46310532,\n",
       "         -0.08855915,  0.16015184]]], dtype=float32)>"
      ]
     },
     "execution_count": 11,
     "metadata": {},
     "output_type": "execute_result"
    }
   ],
   "source": [
    "import tensorflow as tf\n",
    "import numpy as np\n",
    "input_ids = tf.constant(tokenizer.encode(\"Hello, my dog is very <mask>\", add_special_tokens=True))[\n",
    "    None, :\n",
    "]  # We will predict the masked token\n",
    "\n",
    "perm_mask = np.zeros((1, input_ids.shape[1], input_ids.shape[1]))\n",
    "perm_mask[:, :, -1] = 1.0  # Previous tokens don't see last token\n",
    "\n",
    "target_mapping = np.zeros(\n",
    "    (1, 1, input_ids.shape[1])\n",
    ")  # Shape [1, 1, seq_length] => let's predict one token\n",
    "target_mapping[\n",
    "    0, 0, -1\n",
    "] = 1.0  # Our first (and only) prediction will be the last token of the sequence (the masked token)\n",
    "\n",
    "outputs = model(\n",
    "    input_ids,\n",
    "    perm_mask=tf.constant(perm_mask, dtype=tf.float32),\n",
    "    target_mapping=tf.constant(target_mapping, dtype=tf.float32),\n",
    ")\n",
    "next_token_logits = outputs[0]\n",
    "next_token_logits"
   ]
  },
  {
   "cell_type": "code",
   "execution_count": 5,
   "metadata": {},
   "outputs": [
    {
     "data": {
      "text/plain": [
       "TFXLNetLMHeadModelOutput(loss=None, logits=<tf.Tensor: shape=(1, 1, 32000), dtype=float32, numpy=\n",
       "array([[[ 4.9395194 , -0.5041997 , -0.48420405, ..., -0.46310532,\n",
       "         -0.08855915,  0.16015184]]], dtype=float32)>, mems=(<tf.Tensor: shape=(17, 1, 768), dtype=float32, numpy=\n",
       "array([[[-0.00773535,  0.00266788, -0.00799373, ...,  0.02040497,\n",
       "         -0.01341878,  0.02465967]],\n",
       "\n",
       "       [[ 0.01795992, -0.01822837, -0.01776422, ...,  0.04881001,\n",
       "          0.02405427, -0.00601735]],\n",
       "\n",
       "       [[ 0.03020168,  0.02440496,  0.00828683, ...,  0.02402874,\n",
       "          0.01149149, -0.00781375]],\n",
       "\n",
       "       ...,\n",
       "\n",
       "       [[ 0.02233568, -0.00095854, -0.00444888, ...,  0.0084238 ,\n",
       "         -0.0224812 , -0.0018688 ]],\n",
       "\n",
       "       [[ 0.01402227, -0.05273601, -0.01965438, ...,  0.00811852,\n",
       "         -0.0376983 ,  0.00836642]],\n",
       "\n",
       "       [[-0.08334228, -0.06672204, -0.06840936, ...,  0.02247671,\n",
       "         -0.04441682,  0.01747068]]], dtype=float32)>, <tf.Tensor: shape=(17, 1, 768), dtype=float32, numpy=\n",
       "array([[[ 0.0862323 ,  0.02778557,  0.27780312, ...,  0.4215671 ,\n",
       "         -0.43292832,  0.7407174 ]],\n",
       "\n",
       "       [[ 1.3206472 , -0.3107435 ,  0.1461609 , ...,  1.8970854 ,\n",
       "         -0.0858996 ,  0.18494369]],\n",
       "\n",
       "       [[ 1.1963499 ,  1.0362545 ,  1.2694081 , ...,  1.3966372 ,\n",
       "         -0.08978272, -0.01420416]],\n",
       "\n",
       "       ...,\n",
       "\n",
       "       [[ 1.3898823 ,  0.3452744 ,  0.02842477, ...,  0.5862754 ,\n",
       "         -1.5522532 ,  0.06181766]],\n",
       "\n",
       "       [[ 0.1101945 , -0.75005615, -0.6531014 , ...,  0.09844267,\n",
       "         -1.0183179 , -0.04886384]],\n",
       "\n",
       "       [[-0.66821027, -0.87610453, -1.0756412 , ...,  0.48980936,\n",
       "         -1.3683366 , -0.05617919]]], dtype=float32)>, <tf.Tensor: shape=(17, 1, 768), dtype=float32, numpy=\n",
       "array([[[-0.43697223, -0.88216114,  0.2750128 , ...,  0.14891517,\n",
       "         -0.57167333,  0.40375167]],\n",
       "\n",
       "       [[ 1.058533  , -1.3849665 , -0.47977412, ...,  1.685463  ,\n",
       "         -0.5354672 ,  0.1268076 ]],\n",
       "\n",
       "       [[ 0.5346176 ,  0.06689884,  0.6624676 , ...,  1.1114298 ,\n",
       "         -0.24241209, -0.46400782]],\n",
       "\n",
       "       ...,\n",
       "\n",
       "       [[ 1.0710933 , -0.20613009, -0.6135783 , ...,  0.29728088,\n",
       "         -2.3320081 ,  0.18579435]],\n",
       "\n",
       "       [[-0.8202232 , -1.1968238 , -1.0815759 , ..., -0.26197872,\n",
       "         -1.5607879 , -0.5988369 ]],\n",
       "\n",
       "       [[-1.2650027 , -0.9879045 , -1.6527132 , ...,  0.5932218 ,\n",
       "         -1.6261163 , -0.5508398 ]]], dtype=float32)>, <tf.Tensor: shape=(17, 1, 768), dtype=float32, numpy=\n",
       "array([[[-0.58081603, -1.3174146 ,  0.34128016, ..., -0.09858371,\n",
       "         -0.6340958 , -0.06928193]],\n",
       "\n",
       "       [[ 0.43020698, -1.5528632 ,  0.03121881, ...,  1.3321995 ,\n",
       "         -0.36083052, -0.02747979]],\n",
       "\n",
       "       [[ 0.0574493 , -0.20309752,  1.1649545 , ...,  0.73540235,\n",
       "          0.4615652 , -0.7524793 ]],\n",
       "\n",
       "       ...,\n",
       "\n",
       "       [[ 0.37030435,  0.05577473, -0.7167499 , ...,  0.30359268,\n",
       "         -2.660534  ,  0.31091332]],\n",
       "\n",
       "       [[-0.77668285, -0.97625357, -0.59264946, ..., -0.8109462 ,\n",
       "         -0.5940389 , -0.42184356]],\n",
       "\n",
       "       [[-1.009559  , -0.7991742 , -1.0313681 , ..., -0.09177554,\n",
       "         -0.8719689 , -0.4748569 ]]], dtype=float32)>, <tf.Tensor: shape=(17, 1, 768), dtype=float32, numpy=\n",
       "array([[[-0.42388493, -1.1704625 ,  0.32013944, ..., -0.03234634,\n",
       "         -0.41573367, -0.57712144]],\n",
       "\n",
       "       [[ 0.89687973, -0.9921494 ,  0.10480838, ...,  1.0565994 ,\n",
       "          0.3094986 , -0.17256856]],\n",
       "\n",
       "       [[ 0.4656184 ,  0.20622697,  1.0367651 , ...,  0.9153104 ,\n",
       "          0.7659276 , -1.2869053 ]],\n",
       "\n",
       "       ...,\n",
       "\n",
       "       [[ 0.7257763 ,  0.5782443 , -1.2609242 , ...,  0.35917234,\n",
       "         -2.1907687 , -0.14257655]],\n",
       "\n",
       "       [[-1.0048953 , -0.68447894, -0.9086388 , ..., -1.0927544 ,\n",
       "         -0.45977426, -0.71636814]],\n",
       "\n",
       "       [[-1.0552449 , -0.27305785, -1.5202103 , ..., -0.29964823,\n",
       "         -0.95588845, -0.70810074]]], dtype=float32)>, <tf.Tensor: shape=(17, 1, 768), dtype=float32, numpy=\n",
       "array([[[-0.7293698 , -0.8902253 ,  0.32543132, ..., -0.01777066,\n",
       "         -0.601431  , -0.39336908]],\n",
       "\n",
       "       [[ 0.8885802 , -0.6060003 ,  0.5322966 , ...,  1.198865  ,\n",
       "         -0.17392287,  0.3026806 ]],\n",
       "\n",
       "       [[ 0.5141532 ,  0.08675422,  1.2409148 , ...,  1.3184626 ,\n",
       "          0.6227502 , -0.7883774 ]],\n",
       "\n",
       "       ...,\n",
       "\n",
       "       [[ 0.8010032 ,  1.0252843 , -1.3341334 , ...,  0.25064826,\n",
       "         -1.8984189 , -0.10171323]],\n",
       "\n",
       "       [[-1.0756755 , -0.10410625, -0.82560384, ..., -0.73969316,\n",
       "         -0.25911412, -0.71992856]],\n",
       "\n",
       "       [[-1.0362186 ,  0.20597556, -1.4578865 , ..., -0.10044865,\n",
       "         -1.0284694 , -0.6283051 ]]], dtype=float32)>, <tf.Tensor: shape=(17, 1, 768), dtype=float32, numpy=\n",
       "array([[[-0.9507084 , -1.2304702 ,  0.09444462, ...,  0.09388898,\n",
       "         -0.06274474, -0.4910419 ]],\n",
       "\n",
       "       [[ 0.64814174, -0.7325599 ,  0.03103378, ...,  0.7386421 ,\n",
       "          0.21610253, -0.08959284]],\n",
       "\n",
       "       [[ 0.5344248 , -0.26251304,  0.78928506, ...,  0.98889387,\n",
       "          0.6768963 , -1.0734624 ]],\n",
       "\n",
       "       ...,\n",
       "\n",
       "       [[ 0.89784837,  0.92469484, -1.1206498 , ..., -0.13872138,\n",
       "         -1.5802362 , -0.47107804]],\n",
       "\n",
       "       [[-0.7096801 , -0.25414008, -0.30855107, ..., -0.5731317 ,\n",
       "         -0.04099683, -0.47091132]],\n",
       "\n",
       "       [[-0.8690297 , -0.05603084, -0.6250702 , ..., -0.02298778,\n",
       "         -0.6743713 , -0.37734884]]], dtype=float32)>, <tf.Tensor: shape=(17, 1, 768), dtype=float32, numpy=\n",
       "array([[[-0.68491125, -0.6991121 ,  0.38984853, ...,  0.2785798 ,\n",
       "         -0.18458626, -0.1939184 ]],\n",
       "\n",
       "       [[ 0.6305388 , -0.4713919 ,  0.294097  , ...,  0.66308635,\n",
       "          0.18118542, -0.05189149]],\n",
       "\n",
       "       [[ 0.71969545,  0.17760143,  0.6050233 , ...,  0.77446026,\n",
       "          0.32460928, -1.0596552 ]],\n",
       "\n",
       "       ...,\n",
       "\n",
       "       [[ 0.7892798 ,  0.8526161 , -0.8312007 , ..., -0.6399282 ,\n",
       "         -1.6725141 , -0.42471492]],\n",
       "\n",
       "       [[-0.6991948 , -0.0673814 ,  0.19371569, ..., -0.57003295,\n",
       "          0.03658179, -0.15278484]],\n",
       "\n",
       "       [[-0.9284533 ,  0.16055977,  0.00562504, ..., -0.21048543,\n",
       "         -0.59337926, -0.10026533]]], dtype=float32)>, <tf.Tensor: shape=(17, 1, 768), dtype=float32, numpy=\n",
       "array([[[-0.49496654, -0.58771974,  0.70317084, ...,  0.47079182,\n",
       "         -0.54418886,  0.0637224 ]],\n",
       "\n",
       "       [[ 0.724823  , -0.40638185,  0.59899354, ...,  0.81934255,\n",
       "         -0.1930083 ,  0.14636502]],\n",
       "\n",
       "       [[ 0.5426738 ,  0.17923856,  0.70128524, ...,  0.98057526,\n",
       "         -0.242953  , -0.97149825]],\n",
       "\n",
       "       ...,\n",
       "\n",
       "       [[ 1.0093855 ,  0.76465094, -0.95840454, ..., -0.06159932,\n",
       "         -1.5085433 , -0.20245227]],\n",
       "\n",
       "       [[ 0.04308746,  0.12675892,  0.45328212, ..., -0.4781184 ,\n",
       "          0.02289251, -0.3407654 ]],\n",
       "\n",
       "       [[-0.01148945,  0.0653324 ,  0.11468062, ...,  0.09175017,\n",
       "         -0.40460783,  0.04995197]]], dtype=float32)>, <tf.Tensor: shape=(17, 1, 768), dtype=float32, numpy=\n",
       "array([[[-0.05915995, -0.5850272 ,  0.4622028 , ...,  0.7534834 ,\n",
       "         -0.0161719 ,  0.19727632]],\n",
       "\n",
       "       [[ 0.76317847, -0.36162215,  0.23801655, ...,  0.8604347 ,\n",
       "         -0.14031021,  0.14150861]],\n",
       "\n",
       "       [[ 0.4912265 ,  0.1283594 ,  0.6483501 , ...,  1.3527626 ,\n",
       "          0.0689432 , -0.8834475 ]],\n",
       "\n",
       "       ...,\n",
       "\n",
       "       [[ 0.9030404 ,  0.7172157 , -1.0919964 , ...,  0.00910002,\n",
       "         -1.11419   , -0.27469194]],\n",
       "\n",
       "       [[-0.2147562 ,  0.18459469,  0.22239819, ...,  0.0333313 ,\n",
       "          0.11555245, -0.4927573 ]],\n",
       "\n",
       "       [[ 0.04902028,  0.04145793,  0.07642355, ...,  0.02456181,\n",
       "         -0.11954306, -0.01487056]]], dtype=float32)>, <tf.Tensor: shape=(17, 1, 768), dtype=float32, numpy=\n",
       "array([[[ 0.95079535, -0.16909415,  0.1704312 , ...,  0.6691738 ,\n",
       "         -0.191361  ,  0.02052427]],\n",
       "\n",
       "       [[ 1.3125546 , -0.07710906,  0.03246136, ...,  0.28199264,\n",
       "         -0.03244302, -0.3962443 ]],\n",
       "\n",
       "       [[ 0.6218282 ,  0.1453619 ,  0.4264744 , ...,  1.0459435 ,\n",
       "         -0.22269002, -1.381504  ]],\n",
       "\n",
       "       ...,\n",
       "\n",
       "       [[ 0.8896438 ,  0.62043005, -0.81514245, ..., -0.05848063,\n",
       "         -1.0012178 , -0.39597827]],\n",
       "\n",
       "       [[-0.07144684,  0.08623308,  0.1612308 , ...,  0.04301744,\n",
       "          0.04523816, -0.13290267]],\n",
       "\n",
       "       [[ 0.00836071,  0.04273897,  0.08672416, ...,  0.00420347,\n",
       "          0.00158943,  0.03317033]]], dtype=float32)>, <tf.Tensor: shape=(17, 1, 768), dtype=float32, numpy=\n",
       "array([[[ 0.88515675,  0.15361817, -0.06668881, ...,  0.3926533 ,\n",
       "         -0.13122813, -0.18786371]],\n",
       "\n",
       "       [[ 1.1821749 ,  0.30477685, -0.9391141 , ...,  0.23838143,\n",
       "         -0.28508127,  0.18487859]],\n",
       "\n",
       "       [[ 0.45997816,  0.72129005,  0.42120668, ...,  1.0750237 ,\n",
       "         -0.2883765 , -1.3106331 ]],\n",
       "\n",
       "       ...,\n",
       "\n",
       "       [[ 0.65303594,  0.464367  , -0.6859678 , ..., -0.01062227,\n",
       "         -0.900127  , -0.30317244]],\n",
       "\n",
       "       [[ 0.08259472,  0.03113515,  0.05672717, ...,  0.03020815,\n",
       "         -0.10890687,  0.00238191]],\n",
       "\n",
       "       [[ 0.09749298,  0.02164704,  0.06970416, ...,  0.01165376,\n",
       "         -0.10584778,  0.06519669]]], dtype=float32)>), hidden_states=None, attentions=None)"
      ]
     },
     "execution_count": 5,
     "metadata": {},
     "output_type": "execute_result"
    }
   ],
   "source": [
    "outputs"
   ]
  },
  {
   "cell_type": "code",
   "execution_count": 8,
   "metadata": {},
   "outputs": [],
   "source": [
    "from dataclasses import dataclass\n",
    "from typing import List\n",
    "@dataclass\n",
    "class Input:\n",
    "    input_ids:List\n",
    "    token_type_ids:List\n",
    "    attention_mask: List\n",
    "    def concat(self,input_ids:List,token_type_ids:List,attention_mask: List):\n",
    "        self.input_ids.extend(input_ids)\n",
    "        self.token_type_ids.extend(token_type_ids)\n",
    "        self.attention_mask.extend(attention_mask)\n",
    "a=Input([1,2,3],[1],[2])"
   ]
  },
  {
   "cell_type": "code",
   "execution_count": 11,
   "metadata": {},
   "outputs": [
    {
     "data": {
      "text/plain": [
       "'客户。'"
      ]
     },
     "execution_count": 11,
     "metadata": {},
     "output_type": "execute_result"
    }
   ],
   "source": [
    "t.decode([4925,30])\n",
    "t.decode([12967,18])"
   ]
  },
  {
   "cell_type": "code",
   "execution_count": 12,
   "metadata": {},
   "outputs": [
    {
     "data": {
      "text/plain": [
       "{'input_ids': [19, 907, 2942, 1476, 2650, 153, 5967, 2798, 1232, 14176, 1924, 18], 'token_type_ids': [0, 0, 0, 0, 0, 0, 0, 0, 0, 0, 0, 0], 'attention_mask': [1, 1, 1, 1, 1, 1, 1, 1, 1, 1, 1, 1]}"
      ]
     },
     "execution_count": 12,
     "metadata": {},
     "output_type": "execute_result"
    }
   ],
   "source": [
    "t(\"客撒洞察生发出asgfi户。\",add_special_tokens=False,max_length=10,padding='max_length')"
   ]
  },
  {
   "cell_type": "code",
   "execution_count": 7,
   "metadata": {},
   "outputs": [],
   "source": [
    "import json\n",
    "with open('vocab.json','w') as f:\n",
    "    json.dump(t.vocab, f)"
   ]
  },
  {
   "cell_type": "code",
   "execution_count": 3,
   "metadata": {},
   "outputs": [],
   "source": [
    "import spacy\n",
    "import json\n",
    "with open('vocab.json', 'r') as f:\n",
    "    a=json.load(f)"
   ]
  },
  {
   "cell_type": "code",
   "execution_count": null,
   "metadata": {},
   "outputs": [],
   "source": [
    "from spacy.tokens import Doc\n",
    "Doc()"
   ]
  }
 ],
 "metadata": {
  "interpreter": {
   "hash": "649de5dbb7f4632d1be21c829ba0eb34ab25e1f7d7869e9793807b1ab89a1aac"
  },
  "kernelspec": {
   "display_name": "Python 3.8.12 64-bit ('tf2.6': conda)",
   "language": "python",
   "name": "python3"
  },
  "language_info": {
   "codemirror_mode": {
    "name": "ipython",
    "version": 3
   },
   "file_extension": ".py",
   "mimetype": "text/x-python",
   "name": "python",
   "nbconvert_exporter": "python",
   "pygments_lexer": "ipython3",
   "version": "3.8.12"
  },
  "orig_nbformat": 4
 },
 "nbformat": 4,
 "nbformat_minor": 2
}
