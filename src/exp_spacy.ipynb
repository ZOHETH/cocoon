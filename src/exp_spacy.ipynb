{
 "cells": [
  {
   "cell_type": "code",
   "execution_count": 14,
   "metadata": {},
   "outputs": [],
   "source": [
    "import spacy\n",
    "from spacy.lang.zh import ChineseTokenizer\n",
    "nlp = spacy.load(\"zh_core_web_sm\")"
   ]
  },
  {
   "cell_type": "code",
   "execution_count": 21,
   "metadata": {},
   "outputs": [
    {
     "data": {
      "text/plain": [
       "销售:您好，我是德华安顾人寿总公司的专业寿险规划服务师周荣吉，以后将由我继续为您服务，有任何问题都可以随时找我哦~\n",
       "<eod>\n",
       "销售：您好哥\n",
       "销售：那我这边简单跟您说一下，您在网上了解的这款常青树呢，是一款有病赔钱，没事儿发生到期可以领取满期金的疾病保险，跟您的医保社保是没有任何冲突的，相互补充，所以客户都非常认可"
      ]
     },
     "execution_count": 21,
     "metadata": {},
     "output_type": "execute_result"
    }
   ],
   "source": [
    "doc=nlp(\"\"\"\n",
    "销售:您好，我是德华安顾人寿总公司的专业寿险规划服务师周荣吉，以后将由我继续为您服务，有任何问题都可以随时找我哦~\n",
    "<eod>\n",
    "销售：您好哥\n",
    "销售：那我这边简单跟您说一下，您在网上了解的这款常青树呢，是一款有病赔钱，没事儿发生到期可以领取满期金的疾病保险，跟您的医保社保是没有任何冲突的，相互补充，所以客户都非常认可。\n",
    "\"\"\")\n",
    "doc[1:100]"
   ]
  },
  {
   "cell_type": "code",
   "execution_count": 15,
   "metadata": {},
   "outputs": [],
   "source": []
  }
 ],
 "metadata": {
  "interpreter": {
   "hash": "d212e2477f82dc540df41671959301cad8513057ce643ad4c5fc3f3bbfb210fa"
  },
  "kernelspec": {
   "display_name": "Python 3.8.12 64-bit ('spacy': conda)",
   "language": "python",
   "name": "python3"
  },
  "language_info": {
   "codemirror_mode": {
    "name": "ipython",
    "version": 3
   },
   "file_extension": ".py",
   "mimetype": "text/x-python",
   "name": "python",
   "nbconvert_exporter": "python",
   "pygments_lexer": "ipython3",
   "version": "3.8.12"
  },
  "orig_nbformat": 4
 },
 "nbformat": 4,
 "nbformat_minor": 2
}
